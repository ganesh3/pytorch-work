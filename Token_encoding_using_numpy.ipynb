{
  "nbformat": 4,
  "nbformat_minor": 0,
  "metadata": {
    "colab": {
      "provenance": [],
      "authorship_tag": "ABX9TyPSHgXe28Yvn8Sa4r90JMH2",
      "include_colab_link": true
    },
    "kernelspec": {
      "name": "python3",
      "display_name": "Python 3"
    },
    "language_info": {
      "name": "python"
    }
  },
  "cells": [
    {
      "cell_type": "markdown",
      "metadata": {
        "id": "view-in-github",
        "colab_type": "text"
      },
      "source": [
        "<a href=\"https://colab.research.google.com/github/ganesh3/pytorch-work/blob/master/Token_encoding_using_numpy.ipynb\" target=\"_parent\"><img src=\"https://colab.research.google.com/assets/colab-badge.svg\" alt=\"Open In Colab\"/></a>"
      ]
    },
    {
      "cell_type": "code",
      "execution_count": 13,
      "metadata": {
        "id": "2i0wHEZZLVLf"
      },
      "outputs": [],
      "source": [
        "import numpy as np\n",
        "import re\n",
        "from collections import Counter"
      ]
    },
    {
      "cell_type": "code",
      "source": [
        "array = [1, 2, 3]"
      ],
      "metadata": {
        "id": "55tQno5sLaTN"
      },
      "execution_count": 2,
      "outputs": []
    },
    {
      "cell_type": "code",
      "source": [
        "array"
      ],
      "metadata": {
        "colab": {
          "base_uri": "https://localhost:8080/"
        },
        "id": "lEn4_gUBLmzQ",
        "outputId": "d25945a5-9121-41cb-cb92-f0e5a6bad0fb"
      },
      "execution_count": 5,
      "outputs": [
        {
          "output_type": "execute_result",
          "data": {
            "text/plain": [
              "[1, 2, 3]"
            ]
          },
          "metadata": {},
          "execution_count": 5
        }
      ]
    },
    {
      "cell_type": "code",
      "source": [
        "vector_np = np.asarray(array)"
      ],
      "metadata": {
        "id": "EJG5DJaeLe1O"
      },
      "execution_count": 3,
      "outputs": []
    },
    {
      "cell_type": "code",
      "source": [
        "vector_np"
      ],
      "metadata": {
        "colab": {
          "base_uri": "https://localhost:8080/"
        },
        "id": "3qhtV6nsLhrR",
        "outputId": "4800a980-1c83-473b-b296-bf5564574be1"
      },
      "execution_count": 4,
      "outputs": [
        {
          "output_type": "execute_result",
          "data": {
            "text/plain": [
              "array([1, 2, 3])"
            ]
          },
          "metadata": {},
          "execution_count": 4
        }
      ]
    },
    {
      "cell_type": "code",
      "source": [
        "def tokenize_document(document):\n",
        "  # Define a regular expression pattern to match spaces and punctuation as separate tokens\n",
        "  pattern = r\"[\\s.,;!?()]+|[.,;!?()]\"\n",
        "\n",
        "  # Use re.split to tokenize the document\n",
        "  tokens = re.split(pattern, document)\n",
        "\n",
        "  # Remove empty tokens\n",
        "  tokens = [token for token in tokens if token]\n",
        "\n",
        "  return  tokens"
      ],
      "metadata": {
        "id": "GyI3duQnLlED"
      },
      "execution_count": 10,
      "outputs": []
    },
    {
      "cell_type": "code",
      "source": [
        "text = 'sample sentence. It contains punctuation!'"
      ],
      "metadata": {
        "id": "XLBqGnlSMP6r"
      },
      "execution_count": 11,
      "outputs": []
    },
    {
      "cell_type": "code",
      "source": [
        "tokenize_document(text)"
      ],
      "metadata": {
        "colab": {
          "base_uri": "https://localhost:8080/"
        },
        "id": "79a8KTNLMSEl",
        "outputId": "ea51c03d-8917-40f0-9d3e-d831ade878ef"
      },
      "execution_count": 12,
      "outputs": [
        {
          "output_type": "execute_result",
          "data": {
            "text/plain": [
              "['sample', 'sentence', 'It', 'contains', 'punctuation']"
            ]
          },
          "metadata": {},
          "execution_count": 12
        }
      ]
    },
    {
      "cell_type": "code",
      "source": [
        "def build_top_k_vocab(corpus, k):\n",
        "  # Initialize a Counter to count token frequencies\n",
        "  token_counter = Counter()\n",
        "\n",
        "  # Tokenize and count tokens in each document\n",
        "  for document in corpus:\n",
        "    tokens = tokenize_document(document)\n",
        "    token_counter.update(tokens)\n",
        "\n",
        "  print(token_counter)\n",
        "  # Get the top 10 tokens by frequency\n",
        "  top_k_tokens = [token for token, _ in token_counter.most_common(k)]\n",
        "\n",
        "  return set(top_k_tokens)"
      ],
      "metadata": {
        "id": "v9jI2EKnMUG2"
      },
      "execution_count": 19,
      "outputs": []
    },
    {
      "cell_type": "code",
      "source": [
        "# Example usage:\n",
        "corpus = [\n",
        "    \"This is a sample sentence with some words.\",\n",
        "    \"Another sample sentence with some repeating words.\",\n",
        "    \"And yet another sentence to build the vocabulary.\",\n",
        "]"
      ],
      "metadata": {
        "id": "peVm9sDTNTdb"
      },
      "execution_count": 20,
      "outputs": []
    },
    {
      "cell_type": "code",
      "source": [
        "build_top_k_vocab(corpus, k=3)"
      ],
      "metadata": {
        "colab": {
          "base_uri": "https://localhost:8080/"
        },
        "id": "ZhtRGukENWI2",
        "outputId": "f1b76189-aa15-43a3-b2c7-772a76fa9cae"
      },
      "execution_count": 21,
      "outputs": [
        {
          "output_type": "stream",
          "name": "stdout",
          "text": [
            "Counter({'sentence': 3, 'sample': 2, 'with': 2, 'some': 2, 'words': 2, 'This': 1, 'is': 1, 'a': 1, 'Another': 1, 'repeating': 1, 'And': 1, 'yet': 1, 'another': 1, 'to': 1, 'build': 1, 'the': 1, 'vocabulary': 1})\n"
          ]
        },
        {
          "output_type": "execute_result",
          "data": {
            "text/plain": [
              "{'sample', 'sentence', 'with'}"
            ]
          },
          "metadata": {},
          "execution_count": 21
        }
      ]
    },
    {
      "cell_type": "code",
      "source": [],
      "metadata": {
        "id": "eAOWHZ_FNYSR"
      },
      "execution_count": null,
      "outputs": []
    }
  ]
}