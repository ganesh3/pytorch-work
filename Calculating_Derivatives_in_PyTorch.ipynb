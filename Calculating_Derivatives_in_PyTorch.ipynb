{
  "nbformat": 4,
  "nbformat_minor": 0,
  "metadata": {
    "colab": {
      "provenance": [],
      "authorship_tag": "ABX9TyOCQ+G5Dm3XuAVZT044RtIe",
      "include_colab_link": true
    },
    "kernelspec": {
      "name": "python3",
      "display_name": "Python 3"
    },
    "language_info": {
      "name": "python"
    }
  },
  "cells": [
    {
      "cell_type": "markdown",
      "metadata": {
        "id": "view-in-github",
        "colab_type": "text"
      },
      "source": [
        "<a href=\"https://colab.research.google.com/github/ganesh3/pytorch-work/blob/master/Calculating_Derivatives_in_PyTorch.ipynb\" target=\"_parent\"><img src=\"https://colab.research.google.com/assets/colab-badge.svg\" alt=\"Open In Colab\"/></a>"
      ]
    },
    {
      "cell_type": "markdown",
      "source": [
        "This notebook is based on this [URL](https://machinelearningmastery.com/calculating-derivatives-in-pytorch/?__s=pfttrwkcbevnamwphr7v&utm_source=drip&utm_medium=email&utm_campaign=Calculating+derivatives+in+PyTorch&utm_content=Calculating+Derivatives+in+PyTorch) from Machine Learning Mastery. This is to learn the concept of derivatives and partial derivatives as well as some bit of latex 😀"
      ],
      "metadata": {
        "id": "Kobz2MfqkabA"
      }
    },
    {
      "cell_type": "markdown",
      "source": [
        "## **Differentiation in Autograd**"
      ],
      "metadata": {
        "id": "X98h3kgMkmXq"
      }
    },
    {
      "cell_type": "code",
      "execution_count": 1,
      "metadata": {
        "id": "uK0aUtg0kYY3"
      },
      "outputs": [],
      "source": [
        "import matplotlib.pyplot as plt\n",
        "import torch"
      ]
    },
    {
      "cell_type": "code",
      "source": [
        "x = torch.tensor(3.0, requires_grad = True)\n",
        "print(\"Creating a tensor x: \",x)"
      ],
      "metadata": {
        "colab": {
          "base_uri": "https://localhost:8080/"
        },
        "id": "5G-Sx3UPki2D",
        "outputId": "873ec84b-4b2b-47d1-ad76-f6bb6852bdf8"
      },
      "execution_count": 2,
      "outputs": [
        {
          "output_type": "stream",
          "name": "stdout",
          "text": [
            "Creating a tensor x:  tensor(3., requires_grad=True)\n"
          ]
        }
      ]
    },
    {
      "cell_type": "markdown",
      "source": [
        "We’ll use a simple equation y=3x**2 as an example and take the derivative with respect to variable x."
      ],
      "metadata": {
        "id": "6AWnepoLk8Y0"
      }
    },
    {
      "cell_type": "code",
      "source": [
        "y = 3 * x**2\n",
        "print(\"Result of the equation is: \", y)"
      ],
      "metadata": {
        "colab": {
          "base_uri": "https://localhost:8080/"
        },
        "id": "ZoYfUgTck4bI",
        "outputId": "dca96535-52b4-4f2a-fe70-bca0e5686d79"
      },
      "execution_count": 4,
      "outputs": [
        {
          "output_type": "stream",
          "name": "stdout",
          "text": [
            "Result of the equation is:  tensor(27., grad_fn=<MulBackward0>)\n"
          ]
        }
      ]
    },
    {
      "cell_type": "code",
      "source": [
        "y.backward()\n",
        "print(\"Dervative of the equation at x = 3 is: \", x.grad)"
      ],
      "metadata": {
        "colab": {
          "base_uri": "https://localhost:8080/"
        },
        "id": "IN1WFAr8lHdo",
        "outputId": "88be99c9-c445-4cdc-9640-9932cd91f953"
      },
      "execution_count": 5,
      "outputs": [
        {
          "output_type": "stream",
          "name": "stdout",
          "text": [
            "Dervative of the equation at x = 3 is:  tensor(18.)\n"
          ]
        }
      ]
    },
    {
      "cell_type": "markdown",
      "source": [
        "PyTorch generates derivatives by building a backwards graph behind the scenes, while tensors and backwards functions are the graph’s nodes. PyTorch will not evaluate a tensor’s derivative if its leaf attribute is set to True"
      ],
      "metadata": {
        "id": "UMggho39lY5W"
      }
    },
    {
      "cell_type": "markdown",
      "source": [
        "So, let’s check how the tensors x and y look internally once they are created. For x:"
      ],
      "metadata": {
        "id": "fN31tHjAmVfN"
      }
    },
    {
      "cell_type": "code",
      "source": [
        "print(\"Data attribute of tensor x\", x.data)\n",
        "print(\"Gradient attribute of tensor x\", x.grad)\n",
        "print(\"grad_fn attribute of the tensor x\",x.grad_fn)\n",
        "print(\"is_leaf attribute of the tensor\", x.is_leaf)\n",
        "print(\"requires_grad attribute of the tensor\", x.requires_grad)"
      ],
      "metadata": {
        "colab": {
          "base_uri": "https://localhost:8080/"
        },
        "id": "YNTKQPcNlQ0l",
        "outputId": "48976b8a-8a70-4601-b157-54f998b5207b"
      },
      "execution_count": 7,
      "outputs": [
        {
          "output_type": "stream",
          "name": "stdout",
          "text": [
            "Data attribute of tensor x tensor(3.)\n",
            "Gradient attribute of tensor x tensor(18.)\n",
            "grad_fn attribute of the tensor x None\n",
            "is_leaf attribute of the tensor True\n",
            "requires_grad attribute of the tensor True\n"
          ]
        }
      ]
    },
    {
      "cell_type": "markdown",
      "source": [
        "For y:"
      ],
      "metadata": {
        "id": "Ihdf1E5jmXBX"
      }
    },
    {
      "cell_type": "code",
      "source": [
        "print(\"Data attribute of tensor x\", y.data)\n",
        "print(\"Gradient attribute of tensor x\", y.grad)\n",
        "print(\"grad_fn attribute of the tensor x\", y.grad_fn.name)\n",
        "print(\"is_leaf attribute of the tensor\", y.is_leaf)\n",
        "print(\"requires_grad attribute of the tensor\", y.requires_grad)"
      ],
      "metadata": {
        "colab": {
          "base_uri": "https://localhost:8080/"
        },
        "id": "avg5WYP9l5Qa",
        "outputId": "828d4bd3-23d2-4556-94ff-9aab20e807f2"
      },
      "execution_count": 13,
      "outputs": [
        {
          "output_type": "stream",
          "name": "stdout",
          "text": [
            "Data attribute of tensor x tensor(27.)\n",
            "Gradient attribute of tensor x None\n",
            "grad_fn attribute of the tensor x [<built-in method name of MulBackward0 object at 0x7f719ca674d0>]\n",
            "is_leaf attribute of the tensor False\n",
            "requires_grad attribute of the tensor True\n"
          ]
        }
      ]
    },
    {
      "cell_type": "markdown",
      "source": [
        "The data attribute stores the tensor’s data while the grad_fn attribute tells about the node in the graph. Likewise, the .grad attribute holds the result of the derivative."
      ],
      "metadata": {
        "id": "-cMvMNF5nAXV"
      }
    },
    {
      "cell_type": "markdown",
      "source": [
        "let’s take a little more complicated equation $y = 6x^2$+ $2x$ + $4$ and calculate the derivative."
      ],
      "metadata": {
        "id": "p24y81WnnFOu"
      }
    },
    {
      "cell_type": "code",
      "source": [
        "x = torch.tensor(3.0, requires_grad = True)\n",
        "y = 6 * x ** 2 + 2 * x + 4"
      ],
      "metadata": {
        "id": "1jREX6CXmcCL"
      },
      "execution_count": 14,
      "outputs": []
    },
    {
      "cell_type": "code",
      "source": [
        "print(\"Result of the equation y when x is substituted: \", y)"
      ],
      "metadata": {
        "colab": {
          "base_uri": "https://localhost:8080/"
        },
        "id": "jd2ComRvqH7O",
        "outputId": "2640be56-1d73-4581-ab86-68c370c63ae8"
      },
      "execution_count": 16,
      "outputs": [
        {
          "output_type": "stream",
          "name": "stdout",
          "text": [
            "Result of the equation y when x is substituted:  tensor(64., grad_fn=<AddBackward0>)\n"
          ]
        }
      ]
    },
    {
      "cell_type": "code",
      "source": [
        "#lets calculate the gradient w.r.t x\n",
        "y.backward()\n",
        "print(\"Derivate of the equation at x=3 is (12x+2): \", x.grad)"
      ],
      "metadata": {
        "colab": {
          "base_uri": "https://localhost:8080/"
        },
        "id": "13jU9AwKqO_l",
        "outputId": "0662d7bf-c3fe-40c7-865a-dc48d5f11c4d"
      },
      "execution_count": 17,
      "outputs": [
        {
          "output_type": "stream",
          "name": "stdout",
          "text": [
            "Derivate of the equation at x=3 is (12x+2):  tensor(38.)\n"
          ]
        }
      ]
    },
    {
      "cell_type": "markdown",
      "source": [
        "## Implementing Partial Derivatives of Functions"
      ],
      "metadata": {
        "id": "fZpbgV-xqqfn"
      }
    },
    {
      "cell_type": "markdown",
      "source": [
        "PyTorch also allows us to calculate partial derivatives of the following functions $f(u,v) = u^2$ + $v^2 + 4uv$"
      ],
      "metadata": {
        "id": "YMQMpaeYquWg"
      }
    },
    {
      "cell_type": "markdown",
      "source": [
        "The function $f$ partial derivative with respect to **$u$** is,\n",
        "\n",
        " $\\dfrac{\\partial f}{\\partial u} = 3u^2$ + $4v$\n",
        "\n",
        " and\n",
        "\n",
        " The function $f$ partial derivative with respect to **$v$** is,\n",
        "\n",
        " $\\dfrac{\\partial f}{\\partial v} = 2v$ + $4u$"
      ],
      "metadata": {
        "id": "fg3gdHKyrMau"
      }
    },
    {
      "cell_type": "code",
      "source": [
        "u = torch.tensor(3., requires_grad=True)\n",
        "v = torch.tensor(4., requires_grad=True)\n",
        "f = u**3 + v**2 + 4*u*v"
      ],
      "metadata": {
        "id": "B0eQ5kZbs4dX"
      },
      "execution_count": 26,
      "outputs": []
    },
    {
      "cell_type": "code",
      "source": [
        "print(u)\n",
        "print(v)\n",
        "print(f)"
      ],
      "metadata": {
        "colab": {
          "base_uri": "https://localhost:8080/"
        },
        "id": "zb7f9kPTrQo0",
        "outputId": "46e57622-6a8b-4fa3-b9e9-0504888c0c9d"
      },
      "execution_count": 27,
      "outputs": [
        {
          "output_type": "stream",
          "name": "stdout",
          "text": [
            "tensor(3., requires_grad=True)\n",
            "tensor(4., requires_grad=True)\n",
            "tensor(91., grad_fn=<AddBackward0>)\n"
          ]
        }
      ]
    },
    {
      "cell_type": "code",
      "source": [
        "#claculate the gradient/partial derivative of function f\n",
        "f.backward()"
      ],
      "metadata": {
        "id": "mrXbplNIqk2M"
      },
      "execution_count": 28,
      "outputs": []
    },
    {
      "cell_type": "code",
      "source": [
        "print(\"Partial derivative with respect to u: \", u.grad)\n",
        "print(\"Partial derivative with respect to v: \", v.grad)"
      ],
      "metadata": {
        "colab": {
          "base_uri": "https://localhost:8080/"
        },
        "id": "bTV4e2CdtISb",
        "outputId": "ed451236-2fd4-4428-99b4-45951801637c"
      },
      "execution_count": 29,
      "outputs": [
        {
          "output_type": "stream",
          "name": "stdout",
          "text": [
            "Partial derivative with respect to u:  tensor(43.)\n",
            "Partial derivative with respect to v:  tensor(20.)\n"
          ]
        }
      ]
    },
    {
      "cell_type": "code",
      "source": [
        "print(\"Data attribute of tensor x\", u.data)\n",
        "print(\"Data attribute of tensor x\", v.data)\n",
        "print(\"Data attribute of tensor x\", f.data)"
      ],
      "metadata": {
        "colab": {
          "base_uri": "https://localhost:8080/"
        },
        "id": "nG2v6LthtuZU",
        "outputId": "1bccec0a-f51f-4833-fb67-a8be3ba9c622"
      },
      "execution_count": 30,
      "outputs": [
        {
          "output_type": "stream",
          "name": "stdout",
          "text": [
            "Data attribute of tensor x tensor(3.)\n",
            "Data attribute of tensor x tensor(4.)\n",
            "Data attribute of tensor x tensor(91.)\n"
          ]
        }
      ]
    },
    {
      "cell_type": "markdown",
      "source": [
        "## Derivative of Functions with Multiple Values"
      ],
      "metadata": {
        "id": "4MkmW-KwtT5f"
      }
    },
    {
      "cell_type": "markdown",
      "source": [
        "What if we have a function with multiple values and we need to calculate the derivative with respect to its multiple values? For this, we’ll make use of the sum attribute to (1) produce a scalar-valued function, and then (2) take the derivative. This is how we can see the ‘function vs. derivative’ plot:"
      ],
      "metadata": {
        "id": "pHggXMD2truE"
      }
    },
    {
      "cell_type": "code",
      "source": [
        "x = torch.linspace(-20, 20, 20, requires_grad=True)\n",
        "Y = x ** 2"
      ],
      "metadata": {
        "id": "YuFZ4nAttLy_"
      },
      "execution_count": 33,
      "outputs": []
    },
    {
      "cell_type": "code",
      "source": [
        "y = torch.sum(Y)\n",
        "y.backward()"
      ],
      "metadata": {
        "id": "Pd0UkCNSwBdT"
      },
      "execution_count": 34,
      "outputs": []
    },
    {
      "cell_type": "code",
      "source": [
        "# ploting the function and derivative\n",
        "function_line, = plt.plot(x.detach().numpy(), Y.detach().numpy(), label = 'Function')\n",
        "function_line.set_color(\"red\")\n",
        "derivative_line, = plt.plot(x.detach().numpy(), x.grad.detach().numpy(), label= 'Derivative')\n",
        "derivative_line.set_color(\"green\")\n",
        "plt.xlabel('x')\n",
        "plt.legend()\n",
        "plt.show()"
      ],
      "metadata": {
        "colab": {
          "base_uri": "https://localhost:8080/",
          "height": 279
        },
        "id": "-g5RWfhKwSO5",
        "outputId": "65900dda-eb38-4165-ec8c-1b66ece915ef"
      },
      "execution_count": 35,
      "outputs": [
        {
          "output_type": "display_data",
          "data": {
            "text/plain": [
              "<Figure size 432x288 with 1 Axes>"
            ],
            "image/png": "[encoded data removed]"
          },
          "metadata": {
            "needs_background": "light"
          }
        }
      ]
    },
    {
      "cell_type": "markdown",
      "source": [
        "The .detach method doesn’t allow the graph to further track the operations. This makes it easy for us to convert a tensor to a numpy array."
      ],
      "metadata": {
        "id": "ldfimLdRxnpp"
      }
    },
    {
      "cell_type": "markdown",
      "source": [
        "## **Summary**\n",
        "\n",
        "In this tutorial, you learned how to implement derivatives on various functions in PyTorch."
      ],
      "metadata": {
        "id": "z5-GVfYrxtKT"
      }
    }
  ]
}