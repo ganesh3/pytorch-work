{
  "nbformat": 4,
  "nbformat_minor": 0,
  "metadata": {
    "colab": {
      "name": "mnist_nn_resnet.ipynb",
      "provenance": [],
      "collapsed_sections": [],
      "authorship_tag": "ABX9TyOQjkSLEoLSLD1E8KGMaYzK",
      "include_colab_link": true
    },
    "kernelspec": {
      "name": "python3",
      "display_name": "Python 3"
    },
    "accelerator": "GPU"
  },
  "cells": [
    {
      "cell_type": "markdown",
      "metadata": {
        "id": "view-in-github",
        "colab_type": "text"
      },
      "source": [
        "<a href=\"https://colab.research.google.com/github/ganesh3/pytorch-work/blob/master/mnist_nn_resnet.ipynb\" target=\"_parent\"><img src=\"https://colab.research.google.com/assets/colab-badge.svg\" alt=\"Open In Colab\"/></a>"
      ]
    },
    {
      "cell_type": "code",
      "metadata": {
        "id": "ZxLB5kIKuhvf",
        "colab_type": "code",
        "colab": {}
      },
      "source": [
        "import torch\n",
        "from torch import nn\n",
        "from torch import optim\n",
        "from torchvision import datasets, transforms\n",
        "from torch.utils.data import random_split, DataLoader"
      ],
      "execution_count": null,
      "outputs": []
    },
    {
      "cell_type": "code",
      "metadata": {
        "id": "b7cByMJNy1ha",
        "colab_type": "code",
        "colab": {}
      },
      "source": [
        "train_data = datasets.MNIST('data', train=True, download=True, transform = transforms.ToTensor())\n",
        "train, val = random_split(train_data, [55000, 5000])\n",
        "train_loader = DataLoader(train, batch_size = 32)\n",
        "valid_loader = DataLoader(val, batch_size = 32)"
      ],
      "execution_count": null,
      "outputs": []
    },
    {
      "cell_type": "code",
      "metadata": {
        "id": "bD2na_hbup6_",
        "colab_type": "code",
        "colab": {}
      },
      "source": [
        "#Define model -- ignore as we use flexible model\n",
        "#model = nn.Sequential(\n",
        "#    nn.Linear(28 * 28, 64),\n",
        "#    nn.ReLU(),\n",
        "#    nn.Linear(64, 64),\n",
        "#    nn.ReLU(),\n",
        "#    nn.Linear(64, 10)\n",
        "#)"
      ],
      "execution_count": null,
      "outputs": []
    },
    {
      "cell_type": "code",
      "metadata": {
        "id": "MgQf3R4Y_aNZ",
        "colab_type": "code",
        "colab": {}
      },
      "source": [
        "#Define a more flexible model\n",
        "\n",
        "class ResNet(nn.Module):\n",
        "  def __init__(self):\n",
        "    super().__init__()\n",
        "    self.l1 = nn.Linear(28 * 28, 64)\n",
        "    self.l2 = nn.Linear(64, 64)\n",
        "    self.l3 = nn.Linear(64, 10)\n",
        "    self.do = nn.Dropout(0.1)\n",
        "\n",
        "  def forward(self, x):\n",
        "    h1 = nn.functional.relu(self.l1(x))\n",
        "    h2 = nn.functional.relu(self.l2(h1))\n",
        "    do = self.do(h2 + h1)\n",
        "    logits = self.l3(do)\n",
        "    return logits\n",
        "\n",
        "model = ResNet().cuda()"
      ],
      "execution_count": null,
      "outputs": []
    },
    {
      "cell_type": "code",
      "metadata": {
        "id": "Xvrc69NUvrgk",
        "colab_type": "code",
        "colab": {}
      },
      "source": [
        "#define params for flexible model\n",
        "params = model.parameters()\n",
        "\n",
        "# Define optimizer\n",
        "optimizer = optim.SGD(params, lr=1e-2)"
      ],
      "execution_count": null,
      "outputs": []
    },
    {
      "cell_type": "code",
      "metadata": {
        "id": "JAD8i1gJwI7T",
        "colab_type": "code",
        "colab": {}
      },
      "source": [
        "#Define loss\n",
        "loss = nn.CrossEntropyLoss()"
      ],
      "execution_count": null,
      "outputs": []
    },
    {
      "cell_type": "code",
      "metadata": {
        "id": "Ye4RAExowRxt",
        "colab_type": "code",
        "colab": {
          "base_uri": "https://localhost:8080/",
          "height": 391
        },
        "outputId": "451bbbf4-c836-4323-ba01-184ced0ceca0"
      },
      "source": [
        "#training & validation loops\n",
        "no_epochs = 5\n",
        "for epoch in range(no_epochs):\n",
        "  losses = list()\n",
        "  accuracies = list()\n",
        "  for batch in train_loader:\n",
        "    x , y = batch\n",
        "\n",
        "    #x: batchsize * 1 (no. of channel) * 28 (height) * 28 (width)\n",
        "    b = x.size(0)\n",
        "    x = x.view(b, -1).cuda()\n",
        "\n",
        "    #1 forward\n",
        "    l = model(x) # l = logits i.e. output form the last layer of the  model\n",
        "\n",
        "    #2 compute objective function\n",
        "    J = loss (l, y.cuda())\n",
        "\n",
        "    #3 J cleaning the gradient\n",
        "    model.zero_grad()\n",
        "    #optimizer.zero_grad()\n",
        "    #params.grad._zero()\n",
        "\n",
        "    #4 accumulate the partial derivative of J w.r.t params\n",
        "    J.backward()\n",
        "    #params.grad.add_(dJ/dparams)\n",
        "\n",
        "    #5 step in the opposite direction of the gradient\n",
        "    optimizer.step()\n",
        "    #with torch.no_grad: params = params - eta( i.e. learning-rate) * params.grad\n",
        "\n",
        "    losses.append(J.item())\n",
        "    accuracies.append(y.eq(l.detach().argmax(dim=1).cpu()).float().mean())\n",
        "\n",
        "  print(f'Epoch {epoch + 1}, train loss: {torch.Tensor(losses).mean(): .2f}')\n",
        "  print(f'Training accuracy: {torch.tensor(accuracies).mean(): .2f}')\n",
        "\n",
        "  losses = list()\n",
        "  accuracies = list()\n",
        "  for batch in valid_loader:\n",
        "    x , y = batch\n",
        "\n",
        "    #x: batchsize * 1 (no. of channel) * 28 (height) * 28 (width)\n",
        "    b = x.size(0)\n",
        "    x = x.view(b, -1).cuda()\n",
        "\n",
        "    #1 forward\n",
        "    with torch.no_grad():\n",
        "      l = model(x) # l = logits i.e. output form the last layer of the  model\n",
        "\n",
        "    #2 compute objective function\n",
        "    J = loss (l, y.cuda())\n",
        "\n",
        "    losses.append(J.item())\n",
        "    accuracies.append(y.eq(l.detach().argmax(dim=1).cpu()).float().mean())\n",
        "\n",
        "  print(f'Epoch {epoch + 1}, validation loss: {torch.Tensor(losses).mean():.2f}')\n",
        "  print(f'Validation accuracy: {torch.tensor(accuracies).mean(): .2f}')"
      ],
      "execution_count": null,
      "outputs": [
        {
          "output_type": "stream",
          "text": [
            "Epoch 1, train loss:  1.57\n",
            "Training accuracy:  0.47\n",
            "Epoch 1, validation loss: 0.52\n",
            "Validation accuracy:  0.85\n",
            "Epoch 2, train loss:  0.45\n",
            "Training accuracy:  0.87\n",
            "Epoch 2, validation loss: 0.37\n",
            "Validation accuracy:  0.90\n",
            "Epoch 3, train loss:  0.35\n",
            "Training accuracy:  0.90\n",
            "Epoch 3, validation loss: 0.30\n",
            "Validation accuracy:  0.92\n",
            "Epoch 4, train loss:  0.30\n",
            "Training accuracy:  0.92\n",
            "Epoch 4, validation loss: 0.26\n",
            "Validation accuracy:  0.93\n",
            "Epoch 5, train loss:  0.26\n",
            "Training accuracy:  0.93\n",
            "Epoch 5, validation loss: 0.25\n",
            "Validation accuracy:  0.93\n"
          ],
          "name": "stdout"
        }
      ]
    },
    {
      "cell_type": "code",
      "metadata": {
        "id": "MlRJ7nQO3JUg",
        "colab_type": "code",
        "colab": {}
      },
      "source": [
        ""
      ],
      "execution_count": null,
      "outputs": []
    }
  ]
}